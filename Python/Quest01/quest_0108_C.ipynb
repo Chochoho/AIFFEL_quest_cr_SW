{
  "nbformat": 4,
  "nbformat_minor": 0,
  "metadata": {
    "colab": {
      "provenance": [],
      "authorship_tag": "ABX9TyMtMTUJpZ1flHWJkThVRVn5",
      "include_colab_link": true
    },
    "kernelspec": {
      "name": "python3",
      "display_name": "Python 3"
    },
    "language_info": {
      "name": "python"
    }
  },
  "cells": [
    {
      "cell_type": "markdown",
      "metadata": {
        "id": "view-in-github",
        "colab_type": "text"
      },
      "source": [
        "<a href=\"https://colab.research.google.com/github/comtechj/AIFFEL_quest_cr/blob/main/Python/Quest01/quest_0108_C.ipynb\" target=\"_parent\"><img src=\"https://colab.research.google.com/assets/colab-badge.svg\" alt=\"Open In Colab\"/></a>"
      ]
    },
    {
      "cell_type": "code",
      "execution_count": 2,
      "metadata": {
        "colab": {
          "base_uri": "https://localhost:8080/"
        },
        "id": "ytPX7FUw9Nlv",
        "outputId": "32e268e9-a121-4d83-c581-fd9f1ee04a6b"
      },
      "outputs": [
        {
          "output_type": "stream",
          "name": "stdout",
          "text": [
            "입력값 : \n",
            "우변우\n",
            "\n",
            "출력값 : \n",
            "뒤집힌 단어는 :  우변우\n",
            "입력된 단어는 회문입니다.\n"
          ]
        }
      ],
      "source": [
        "input_val = input(\"입력값 : \\n\")\n",
        "\n",
        "def test (value):                           # 회문 check 함수\n",
        "    val_cnt = len(value) % 2                # 홀수 글자인지 check\n",
        "\n",
        "    if val_cnt == 1:\n",
        "        result = value == value[::-1]       # 홀수 이면 회문인지 check\n",
        "    else:\n",
        "        result = False                      # 짝수 이면 회문이 아님.\n",
        "\n",
        "    return result\n",
        "\n",
        "answer = test(input_val)                    # 함수 호출\n",
        "\n",
        "print('\\n출력값 : ')\n",
        "print('뒤집힌 단어는 : ', input_val[-1::-1])  # 입력값을 뒤집어서 출력\n",
        "\n",
        "if answer:                                  # 회문 : True, 회문 아님 : False\n",
        "    print('입력된 단어는 회문입니다.')\n",
        "else:\n",
        "    print('입력된 단어는 회문이 아닙니다.')\n",
        "\n"
      ]
    }
  ]
}