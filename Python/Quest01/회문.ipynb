input_val = input("입력값 : \n")

def test (value):                           # 회문 check 함수
    val_cnt = len(value) % 2                # 홀수 글자인지 check

    if val_cnt == 1:
        result = value == value[::-1]       # 홀수 이면 회문인지 check
    else:
        result = False                      # 짝수 이면 회문이 아님.

    return result

answer = test(input_val)                    # 함수 호출

print('\n출력값 : ')
print('뒤집힌 단어는 : ', input_val[-1::-1])  # 입력값을 뒤집어서 출력

if answer:                                  # 회문 : True, 회문 아님 : False
    print('입력된 단어는 회문입니다.')
else:
    print('입력된 단어는 회문이 아닙니다.')

